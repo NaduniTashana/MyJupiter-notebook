{
 "cells": [
  {
   "cell_type": "markdown",
   "id": "237b2bba-551d-44b6-a3bc-a6c65cc6d878",
   "metadata": {},
   "source": [
    "# Data Science Tools and Ecosystem"
   ]
  },
  {
   "cell_type": "markdown",
   "id": "cf095050-c517-4990-804b-89a700ac62a3",
   "metadata": {},
   "source": [
    "***In this notebook, Data Science Tools and Ecosystem are summarized.***  "
   ]
  },
  {
   "cell_type": "markdown",
   "id": "197d676a-7223-466d-8e9c-772b2a72799f",
   "metadata": {},
   "source": [
    "Some of the popular languages that Data Scientists use are:\n",
    "1. python \n",
    "2. R \n",
    "3. java"
   ]
  },
  {
   "cell_type": "markdown",
   "id": "c37982db-2b25-43d3-8b76-00869f256357",
   "metadata": {},
   "source": [
    "Some of the commonly used libraries used by Data Scientists include:\n",
    "1. Pandas\n",
    "2. openCV\n",
    "3. Matplotlib"
   ]
  },
  {
   "cell_type": "markdown",
   "id": "26c4f3a9-f0d7-4741-9ccc-75707e3647db",
   "metadata": {},
   "source": [
    "|Data Science Tools|\n",
    "|------------------|\n",
    "|Jupiter Notebook|\n",
    "|R studio|\n",
    "|jupiter lab|"
   ]
  },
  {
   "cell_type": "markdown",
   "id": "a4872861-a911-42f9-af19-4e3449104a01",
   "metadata": {},
   "source": [
    "### Below are a few examples of evaluating arithmetic expressions in Python"
   ]
  },
  {
   "cell_type": "code",
   "execution_count": 1,
   "id": "b9f24c17-9cd6-4330-a1b4-cb759f13d2f2",
   "metadata": {
    "tags": []
   },
   "outputs": [
    {
     "data": {
      "text/plain": [
       "17"
      ]
     },
     "execution_count": 1,
     "metadata": {},
     "output_type": "execute_result"
    }
   ],
   "source": [
    "# This a simple arithmetic expression to mutiply then add integers\n",
    "(3*4)+5"
   ]
  },
  {
   "cell_type": "code",
   "execution_count": 2,
   "id": "ea8588d5-b440-482a-aad2-5d86e0513fb8",
   "metadata": {
    "tags": []
   },
   "outputs": [
    {
     "data": {
      "text/plain": [
       "3.3333333333333335"
      ]
     },
     "execution_count": 2,
     "metadata": {},
     "output_type": "execute_result"
    }
   ],
   "source": [
    "# This will convert 200 minutes to hours by diving by 60\n",
    "200/60"
   ]
  },
  {
   "cell_type": "markdown",
   "id": "405200bc-58b6-4950-8a3c-eee4f6870fe8",
   "metadata": {},
   "source": [
    "***Objectives:***    "
   ]
  },
  {
   "cell_type": "markdown",
   "id": "8f512cfd-714c-454c-949d-4150862b69be",
   "metadata": {},
   "source": [
    "* Python\n",
    "* R\n",
    "* Ruby\n",
    "* Java"
   ]
  },
  {
   "cell_type": "markdown",
   "id": "bd02ff17-6f01-48f9-83f8-89b70661c999",
   "metadata": {},
   "source": [
    "## Author\n",
    "Naduni Tashana"
   ]
  },
  {
   "cell_type": "code",
   "execution_count": null,
   "id": "bae36291-c663-4781-8807-13f9294627ed",
   "metadata": {},
   "outputs": [],
   "source": []
  }
 ],
 "metadata": {
  "kernelspec": {
   "display_name": "Python",
   "language": "python",
   "name": "conda-env-python-py"
  },
  "language_info": {
   "codemirror_mode": {
    "name": "ipython",
    "version": 3
   },
   "file_extension": ".py",
   "mimetype": "text/x-python",
   "name": "python",
   "nbconvert_exporter": "python",
   "pygments_lexer": "ipython3",
   "version": "3.7.12"
  }
 },
 "nbformat": 4,
 "nbformat_minor": 5
}
